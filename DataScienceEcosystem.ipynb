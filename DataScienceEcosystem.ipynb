{
 "cells": [
  {
   "cell_type": "markdown",
   "id": "8960cf71",
   "metadata": {},
   "source": [
    "# Data Science Tools and Ecosystem #"
   ]
  },
  {
   "cell_type": "markdown",
   "id": "f6cc67e6",
   "metadata": {},
   "source": [
    "In this notebook, Data Science Tools and Ecosystem are summarized."
   ]
  },
  {
   "cell_type": "markdown",
   "id": "41f253fc",
   "metadata": {},
   "source": [
    "**Objectives**\n",
    ".creation of github account\n",
    ".Data Science tools\n",
    ".Data Science programing languages\n",
    ".use of R studio"
   ]
  },
  {
   "cell_type": "markdown",
   "id": "512070e4",
   "metadata": {},
   "source": [
    "##  Author  ##\n",
    "Nehemie ISHIMWE"
   ]
  },
  {
   "cell_type": "markdown",
   "id": "39db5916",
   "metadata": {},
   "source": [
    "Some of the popular languages that Data Scientists use are:\n",
    "1.python\n",
    "2.R\n",
    "3.javascript\n",
    "4.java"
   ]
  },
  {
   "cell_type": "markdown",
   "id": "0b23ae16",
   "metadata": {},
   "source": [
    "Some of the commonly used libraries used by Data Scientists include:\n",
    "1.tensorflow\n",
    "2.pandas\n",
    "3.numpy\n",
    "4.matplotlib"
   ]
  },
  {
   "cell_type": "markdown",
   "id": "8c6be165",
   "metadata": {},
   "source": [
    "|Data Science Tools|\n",
    "|------------------|\n",
    "| jupyter notebook |\n",
    "|------------------|\n",
    "| R studio         |\n",
    "|------------------|\n",
    "| watson studio    |\n",
    "|------------------|\n",
    "|visual studio code|\n",
    "|------------------|"
   ]
  },
  {
   "cell_type": "markdown",
   "id": "db6dbcf3",
   "metadata": {},
   "source": [
    "### Below are a few examples of evaluating arithmetic expressions in Python ###"
   ]
  },
  {
   "cell_type": "code",
   "execution_count": 6,
   "id": "5c48b86f",
   "metadata": {},
   "outputs": [
    {
     "data": {
      "text/plain": [
       "17"
      ]
     },
     "execution_count": 6,
     "metadata": {},
     "output_type": "execute_result"
    }
   ],
   "source": [
    "#adding two number after multiplication\n",
    "r = (3*4)+5\n",
    "r"
   ]
  },
  {
   "cell_type": "code",
   "execution_count": 9,
   "id": "daeb04d0",
   "metadata": {},
   "outputs": [
    {
     "data": {
      "text/plain": [
       "3.3333333333333335"
      ]
     },
     "execution_count": 9,
     "metadata": {},
     "output_type": "execute_result"
    }
   ],
   "source": [
    "#converting minutes to hours\n",
    "hour = 200/60\n",
    "hour"
   ]
  }
 ],
 "metadata": {
  "kernelspec": {
   "display_name": "Python 3",
   "language": "python",
   "name": "python3"
  },
  "language_info": {
   "codemirror_mode": {
    "name": "ipython",
    "version": 3
   },
   "file_extension": ".py",
   "mimetype": "text/x-python",
   "name": "python",
   "nbconvert_exporter": "python",
   "pygments_lexer": "ipython3",
   "version": "3.11.9"
  }
 },
 "nbformat": 4,
 "nbformat_minor": 5
}
